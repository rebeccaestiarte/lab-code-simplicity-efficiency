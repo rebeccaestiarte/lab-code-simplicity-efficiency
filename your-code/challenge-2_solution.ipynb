{
 "cells": [
  {
   "cell_type": "code",
   "execution_count": null,
   "metadata": {
    "scrolled": true
   },
   "outputs": [],
   "source": [
    "\"\"\"\n",
    "The code below generates a given number of random strings that consists of numbers and \n",
    "lower case English letters. You can also define the range of the variable lengths of\n",
    "the strings being generated.\n",
    "\n",
    "The code is functional but has a lot of room for improvement. Use what you have learned\n",
    "about simple and efficient code, refactor the code.\n",
    "\"\"\"\n",
    "\n",
    "#Second function refactoring\n",
    "\n",
    "\n",
    "def BatchStringGenerator(n):            \n",
    "    result = []\n",
    "    for times in range (len(n)):\n",
    "        string = RandomStringGenerator()\n",
    "        result.append(string)\n",
    "    return result       \n",
    "\n",
    "n = input('How many random strings to generate? ')\n",
    "BatchStringGenerator(n)             "
   ]
  },
  {
   "cell_type": "code",
   "execution_count": null,
   "metadata": {},
   "outputs": [],
   "source": [
    "# First function refactoring\n",
    "\n",
    "import random\n",
    "import string\n",
    "\n",
    "def RandomStringGenerator():\n",
    "\n",
    "    min_len = int(input('Enter minimum string length: '))\n",
    "    max_len = int(input('Enter maximum string length: '))\n",
    "    range_len = random.randrange(min_len , max_len)\n",
    "    \n",
    "    while range_len < 0:\n",
    "        print ('Incorrect min and max string lengths. Try again.')\n",
    "        min_len = int(input('Enter minimum string length: '))\n",
    "        max_len = int(input('Enter maximum string length: '))\n",
    "    \n",
    "    letters = string.ascii_lowercase\n",
    "    numbers = string.digits\n",
    "    input_characters = letters + numbers\n",
    "      \n",
    "    keylist = [random.choice(input_characters) for times in range_len]\n",
    "    return \"\".join(keylist)\n",
    "\n",
    "RandomStringGenerator()\n",
    "\n",
    "#ERROR. TO CHECK: Int object not iterable"
   ]
  },
  {
   "cell_type": "code",
   "execution_count": null,
   "metadata": {},
   "outputs": [],
   "source": [
    "#ORIGINAL CODE\n",
    "\n",
    "def RandomStringGenerator(l=12, a=['a','b','c','d','e','f','g','h','i','j','k','l','m','n','o','p','q','r','s','t','u','v','w','x','y','z','0','1','2','3','4','5','6','7','8','9']):\n",
    "    p = 0\n",
    "    s = ''\n",
    "    while p<l:\n",
    "        import random\n",
    "        s += random.choice(a)\n",
    "        p += 1\n",
    "    return s\n",
    "\n",
    "def BatchStringGenerator(n, a=8, b=12):\n",
    "    r = []\n",
    "    for i in range(n):\n",
    "        c = None\n",
    "        if a < b:\n",
    "            import random\n",
    "            c = random.choice(range(a, b))\n",
    "        elif a == b:\n",
    "            c = a\n",
    "        else:\n",
    "            import sys\n",
    "            sys.exit('Incorrect min and max string lengths. Try again.')\n",
    "        r.append(RandomStringGenerator(c))\n",
    "    return r\n",
    "\n",
    "a = input('Enter minimum string length: ')\n",
    "b = input('Enter maximum string length: ')\n",
    "n = input('How many random strings to generate? ')\n",
    "\n",
    "print(BatchStringGenerator(int(n), int(a), int(b)))"
   ]
  }
 ],
 "metadata": {
  "kernelspec": {
   "display_name": "Python 3",
   "language": "python",
   "name": "python3"
  },
  "language_info": {
   "codemirror_mode": {
    "name": "ipython",
    "version": 3
   },
   "file_extension": ".py",
   "mimetype": "text/x-python",
   "name": "python",
   "nbconvert_exporter": "python",
   "pygments_lexer": "ipython3",
   "version": "3.8.1"
  }
 },
 "nbformat": 4,
 "nbformat_minor": 4
}
