{
 "cells": [
  {
   "cell_type": "code",
   "execution_count": null,
   "metadata": {
    "scrolled": true
   },
   "outputs": [],
   "source": [
    "\"\"\"\n",
    "The code below generates a given number of random strings that consists of numbers and \n",
    "lower case English letters. You can also define the range of the variable lengths of\n",
    "the strings being generated.\n",
    "\n",
    "The code is functional but has a lot of room for improvement. Use what you have learned\n",
    "about simple and efficient code, refactor the code.\n",
    "\"\"\"\n",
    "\n",
    "#Second function refactoring\n",
    "\n",
    "\n",
    "            "
   ]
  },
  {
   "cell_type": "code",
   "execution_count": null,
   "metadata": {},
   "outputs": [],
   "source": [
    "def BatchStringGenerator(n):            \n",
    "    result = []\n",
    "    for times in range(n):\n",
    "        string = RandomStringGenerator()\n",
    "        result.append(string)\n",
    "    return result       \n",
    "\n",
    "n = input('How many random strings to generate? ')\n",
    "BatchStringGenerator(int(n)) \n",
    "\n",
    " while max_len-min_len < 0: \n",
    "            print ('Incorrect min and max string lengths. Try again.')\n",
    "            min_len = int(input('Enter minimum string length: '))\n",
    "            max_len = int(input('Enter maximum string length: ')"
   ]
  },
  {
   "cell_type": "code",
   "execution_count": 4,
   "metadata": {},
   "outputs": [
    {
     "name": "stdout",
     "output_type": "stream",
     "text": [
      "How many random strings to generate? 4\n",
      "Enter minimum string length: 10\n",
      "Enter maximum string length: 15\n",
      "12\n"
     ]
    },
    {
     "data": {
      "text/plain": [
       "['yc625nimsv3v', '1j9xwi2vamn6', 'uqy15uxf0dev', 'nfxxwzszcblo']"
      ]
     },
     "execution_count": 4,
     "metadata": {},
     "output_type": "execute_result"
    }
   ],
   "source": [
    "# First function refactoring\n",
    "\n",
    "import random\n",
    "import string\n",
    "\n",
    "def RandomStringGenerator(n):\n",
    "    \n",
    "    min_len = int(input('Enter minimum string length: '))\n",
    "    max_len = int(input('Enter maximum string length: '))\n",
    "    range_len = random.randrange(min_len , max_len)\n",
    "\n",
    "    print(range_len)\n",
    "    \n",
    "    letters = string.ascii_lowercase\n",
    "    numbers = string.digits\n",
    "    input_characters = list(letters + numbers)\n",
    "\n",
    "    result = []\n",
    "    for i in range(n):\n",
    "        \n",
    "        keylist = [random.choice(input_characters) for times in range(range_len)]\n",
    "        password = \"\".join(keylist)\n",
    "        result.append(password)\n",
    "        \n",
    "    return result\n",
    "\n",
    "n = input('How many random strings to generate? ')\n",
    "RandomStringGenerator(int(n))"
   ]
  },
  {
   "cell_type": "code",
   "execution_count": null,
   "metadata": {},
   "outputs": [],
   "source": []
  }
 ],
 "metadata": {
  "kernelspec": {
   "display_name": "Python 3",
   "language": "python",
   "name": "python3"
  },
  "language_info": {
   "codemirror_mode": {
    "name": "ipython",
    "version": 3
   },
   "file_extension": ".py",
   "mimetype": "text/x-python",
   "name": "python",
   "nbconvert_exporter": "python",
   "pygments_lexer": "ipython3",
   "version": "3.8.1"
  }
 },
 "nbformat": 4,
 "nbformat_minor": 4
}
