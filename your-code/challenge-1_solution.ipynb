{
 "cells": [
  {
   "cell_type": "code",
   "execution_count": 69,
   "metadata": {},
   "outputs": [
    {
     "name": "stdout",
     "output_type": "stream",
     "text": [
      "Welcome to this calculator!\n",
      "It can add and subtract whole numbers from zero to five\n"
     ]
    }
   ],
   "source": [
    "def greetings():\n",
    "    print('Welcome to this calculator!')\n",
    "    print('It can add and subtract whole numbers from zero to five')\n",
    "    \n",
    "greetings()   "
   ]
  },
  {
   "cell_type": "code",
   "execution_count": 70,
   "metadata": {},
   "outputs": [],
   "source": [
    "possible_inputs_numbers = [\"zero\", \"one\", \"two\", \"three\", \"four\", \"five\"]\n",
    "possible_inputs_operators = [\"plus\", \"minus\"]\n",
    "\n",
    "def ask_input():\n",
    "    \n",
    "    a = input('Please choose your first number (zero to five): ')\n",
    "   \n",
    "    while a not in possible_inputs_numbers:\n",
    "        print(\"I am not able to answer this question. Check your input.\")\n",
    "        a = input('Please choose your first number (zero to five): ')\n",
    "        \n",
    "    b = input('What do you want to do? plus or minus: ')\n",
    "    \n",
    "    while b not in possible_inputs_operators:\n",
    "        print(\"I am not able to answer this question. Check your input.\")\n",
    "        b = input('What do you want to do? plus or minus: ')\n",
    "        \n",
    "    c = input('Please choose your second number (zero to five): ')\n",
    "    \n",
    "    while c not in possible_inputs_numbers:\n",
    "        print(\"I am not able to answer this question. Check your input.\")\n",
    "        c = input('Please choose your first number (zero to five): ')\n",
    "\n",
    "    return a,b,c"
   ]
  },
  {
   "cell_type": "code",
   "execution_count": 71,
   "metadata": {},
   "outputs": [],
   "source": [
    "def translate_w2n(key):\n",
    "    \n",
    "    word_to_number = {  \"zero\"  : 0,\n",
    "                    \"one\"   : 1,\n",
    "                    \"two\"   : 2,\n",
    "                    \"three\" : 3,\n",
    "                    \"four\"  : 4,\n",
    "                    \"five\"  : 5\n",
    "                                }\n",
    "\n",
    "    return word_to_number[key]"
   ]
  },
  {
   "cell_type": "code",
   "execution_count": 73,
   "metadata": {},
   "outputs": [
    {
     "name": "stdout",
     "output_type": "stream",
     "text": [
      "Please choose your first number (zero to five): zero\n",
      "What do you want to do? plus or minus: +\n",
      "I am not able to answer this question. Check your input.\n",
      "What do you want to do? plus or minus: plus\n",
      "Please choose your second number (zero to five): two\n"
     ]
    },
    {
     "data": {
      "text/plain": [
       "2"
      ]
     },
     "execution_count": 73,
     "metadata": {},
     "output_type": "execute_result"
    }
   ],
   "source": [
    "def game():\n",
    "    a, b, c = ask_input()\n",
    "    a = translate_w2n(a)\n",
    "    c = translate_w2n(c)\n",
    "    if b == \"plus\":\n",
    "        return a + c\n",
    "    if b == \"minus\":\n",
    "        return a - c\n",
    "\n",
    "game() "
   ]
  }
 ],
 "metadata": {
  "kernelspec": {
   "display_name": "Python 3",
   "language": "python",
   "name": "python3"
  },
  "language_info": {
   "codemirror_mode": {
    "name": "ipython",
    "version": 3
   },
   "file_extension": ".py",
   "mimetype": "text/x-python",
   "name": "python",
   "nbconvert_exporter": "python",
   "pygments_lexer": "ipython3",
   "version": "3.8.1"
  }
 },
 "nbformat": 4,
 "nbformat_minor": 4
}
